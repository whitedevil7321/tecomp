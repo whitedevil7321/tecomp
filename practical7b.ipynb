{
 "cells": [
  {
   "cell_type": "code",
   "execution_count": 1,
   "id": "2bd80dd2",
   "metadata": {},
   "outputs": [],
   "source": [
    "import pandas as pd\n",
    "import sklearn as sk\n",
    "import math"
   ]
  },
  {
   "cell_type": "code",
   "execution_count": 2,
   "id": "f5a38574",
   "metadata": {},
   "outputs": [
    {
     "name": "stdout",
     "output_type": "stream",
     "text": [
      "{'Jupiter', 'is', 'Planet', 'planet', 'largest', 'Sun', 'Mars', 'the', 'from', 'fourth'}\n"
     ]
    }
   ],
   "source": [
    "first_sentence = \"Jupiter is the largest Planet\"\n",
    "second_sentence = \"Mars is the fourth planet from the Sun\"\n",
    "#split so each word have their own string\n",
    "first_sentence = first_sentence.split(\" \")\n",
    "second_sentence = second_sentence.split(\" \")#join them to remove common duplicate words\n",
    "total= set(first_sentence).union(set(second_sentence))\n",
    "print(total)"
   ]
  },
  {
   "cell_type": "code",
   "execution_count": 3,
   "id": "2bb1aa30",
   "metadata": {},
   "outputs": [
    {
     "data": {
      "text/plain": [
       "10"
      ]
     },
     "execution_count": 3,
     "metadata": {},
     "output_type": "execute_result"
    }
   ],
   "source": [
    "len(total)"
   ]
  },
  {
   "cell_type": "code",
   "execution_count": 8,
   "id": "6e4cfe02",
   "metadata": {},
   "outputs": [
    {
     "name": "stdout",
     "output_type": "stream",
     "text": [
      "{'Jupiter': 1, 'is': 1, 'Planet': 1, 'planet': 0, 'largest': 1, 'Sun': 0, 'Mars': 0, 'the': 1, 'from': 0, 'fourth': 0}\n",
      "{'Jupiter': 0, 'is': 1, 'Planet': 0, 'planet': 1, 'largest': 0, 'Sun': 1, 'Mars': 1, 'the': 2, 'from': 1, 'fourth': 1}\n"
     ]
    }
   ],
   "source": [
    "wdictA=dict.fromkeys(total,0)\n",
    "wdictB=dict.fromkeys(total,0)\n",
    "for w in first_sentence:\n",
    "    wdictA[w]+=1\n",
    "for w in second_sentence:\n",
    "    wdictB[w]+=1\n",
    "print(wdictA)\n",
    "print(wdictB)"
   ]
  },
  {
   "cell_type": "code",
   "execution_count": 13,
   "id": "7c3484f3",
   "metadata": {},
   "outputs": [],
   "source": [
    "df=pd.DataFrame([wdictA,wdictB])"
   ]
  },
  {
   "cell_type": "code",
   "execution_count": 14,
   "id": "acba747d",
   "metadata": {},
   "outputs": [
    {
     "data": {
      "text/html": [
       "<div>\n",
       "<style scoped>\n",
       "    .dataframe tbody tr th:only-of-type {\n",
       "        vertical-align: middle;\n",
       "    }\n",
       "\n",
       "    .dataframe tbody tr th {\n",
       "        vertical-align: top;\n",
       "    }\n",
       "\n",
       "    .dataframe thead th {\n",
       "        text-align: right;\n",
       "    }\n",
       "</style>\n",
       "<table border=\"1\" class=\"dataframe\">\n",
       "  <thead>\n",
       "    <tr style=\"text-align: right;\">\n",
       "      <th></th>\n",
       "      <th>Jupiter</th>\n",
       "      <th>is</th>\n",
       "      <th>Planet</th>\n",
       "      <th>planet</th>\n",
       "      <th>largest</th>\n",
       "      <th>Sun</th>\n",
       "      <th>Mars</th>\n",
       "      <th>the</th>\n",
       "      <th>from</th>\n",
       "      <th>fourth</th>\n",
       "    </tr>\n",
       "  </thead>\n",
       "  <tbody>\n",
       "    <tr>\n",
       "      <th>0</th>\n",
       "      <td>1</td>\n",
       "      <td>1</td>\n",
       "      <td>1</td>\n",
       "      <td>0</td>\n",
       "      <td>1</td>\n",
       "      <td>0</td>\n",
       "      <td>0</td>\n",
       "      <td>1</td>\n",
       "      <td>0</td>\n",
       "      <td>0</td>\n",
       "    </tr>\n",
       "    <tr>\n",
       "      <th>1</th>\n",
       "      <td>0</td>\n",
       "      <td>1</td>\n",
       "      <td>0</td>\n",
       "      <td>1</td>\n",
       "      <td>0</td>\n",
       "      <td>1</td>\n",
       "      <td>1</td>\n",
       "      <td>2</td>\n",
       "      <td>1</td>\n",
       "      <td>1</td>\n",
       "    </tr>\n",
       "  </tbody>\n",
       "</table>\n",
       "</div>"
      ],
      "text/plain": [
       "   Jupiter  is  Planet  planet  largest  Sun  Mars  the  from  fourth\n",
       "0        1   1       1       0        1    0     0    1     0       0\n",
       "1        0   1       0       1        0    1     1    2     1       1"
      ]
     },
     "execution_count": 14,
     "metadata": {},
     "output_type": "execute_result"
    }
   ],
   "source": [
    "df"
   ]
  },
  {
   "cell_type": "code",
   "execution_count": 18,
   "id": "3569fecd",
   "metadata": {},
   "outputs": [],
   "source": [
    "def computeTF(worddict,doc):\n",
    "    tfDict={}\n",
    "    corpuscount=len(doc)\n",
    "    for word,count in worddict.items():\n",
    "        tfDict[word]=count/float(corpuscount)\n",
    "    return tfDict\n",
    "tfFirst=computeTF(wdictA,first_sentence)\n",
    "tfSecond=computeTF(wdictB,second_sentence)\n",
    "\n",
    "tf=pd.DataFrame([tfFirst,tfSecond])"
   ]
  },
  {
   "cell_type": "code",
   "execution_count": 19,
   "id": "576ea61b",
   "metadata": {},
   "outputs": [
    {
     "data": {
      "text/html": [
       "<div>\n",
       "<style scoped>\n",
       "    .dataframe tbody tr th:only-of-type {\n",
       "        vertical-align: middle;\n",
       "    }\n",
       "\n",
       "    .dataframe tbody tr th {\n",
       "        vertical-align: top;\n",
       "    }\n",
       "\n",
       "    .dataframe thead th {\n",
       "        text-align: right;\n",
       "    }\n",
       "</style>\n",
       "<table border=\"1\" class=\"dataframe\">\n",
       "  <thead>\n",
       "    <tr style=\"text-align: right;\">\n",
       "      <th></th>\n",
       "      <th>Jupiter</th>\n",
       "      <th>is</th>\n",
       "      <th>Planet</th>\n",
       "      <th>planet</th>\n",
       "      <th>largest</th>\n",
       "      <th>Sun</th>\n",
       "      <th>Mars</th>\n",
       "      <th>the</th>\n",
       "      <th>from</th>\n",
       "      <th>fourth</th>\n",
       "    </tr>\n",
       "  </thead>\n",
       "  <tbody>\n",
       "    <tr>\n",
       "      <th>0</th>\n",
       "      <td>0.2</td>\n",
       "      <td>0.200</td>\n",
       "      <td>0.2</td>\n",
       "      <td>0.000</td>\n",
       "      <td>0.2</td>\n",
       "      <td>0.000</td>\n",
       "      <td>0.000</td>\n",
       "      <td>0.20</td>\n",
       "      <td>0.000</td>\n",
       "      <td>0.000</td>\n",
       "    </tr>\n",
       "    <tr>\n",
       "      <th>1</th>\n",
       "      <td>0.0</td>\n",
       "      <td>0.125</td>\n",
       "      <td>0.0</td>\n",
       "      <td>0.125</td>\n",
       "      <td>0.0</td>\n",
       "      <td>0.125</td>\n",
       "      <td>0.125</td>\n",
       "      <td>0.25</td>\n",
       "      <td>0.125</td>\n",
       "      <td>0.125</td>\n",
       "    </tr>\n",
       "  </tbody>\n",
       "</table>\n",
       "</div>"
      ],
      "text/plain": [
       "   Jupiter     is  Planet  planet  largest    Sun   Mars   the   from  fourth\n",
       "0      0.2  0.200     0.2   0.000      0.2  0.000  0.000  0.20  0.000   0.000\n",
       "1      0.0  0.125     0.0   0.125      0.0  0.125  0.125  0.25  0.125   0.125"
      ]
     },
     "execution_count": 19,
     "metadata": {},
     "output_type": "execute_result"
    }
   ],
   "source": [
    "tf"
   ]
  },
  {
   "cell_type": "code",
   "execution_count": 20,
   "id": "e1403bd2",
   "metadata": {},
   "outputs": [],
   "source": [
    "def computeIDF(doclist):\n",
    "    idfdict={}\n",
    "    n=len(doclist)\n",
    "    idfdict=dict.fromkeys(doclist[0].keys(),0)\n",
    "    for word,val in idfdict.items():\n",
    "        idfdict[word]=math.log10(n/(float(val)+1))\n",
    "    return idfdict\n",
    "idfs=computeIDF([wdictA,wdictB])"
   ]
  },
  {
   "cell_type": "code",
   "execution_count": 21,
   "id": "064d8b9a",
   "metadata": {},
   "outputs": [
    {
     "data": {
      "text/plain": [
       "{'Jupiter': 0.3010299956639812,\n",
       " 'is': 0.3010299956639812,\n",
       " 'Planet': 0.3010299956639812,\n",
       " 'planet': 0.3010299956639812,\n",
       " 'largest': 0.3010299956639812,\n",
       " 'Sun': 0.3010299956639812,\n",
       " 'Mars': 0.3010299956639812,\n",
       " 'the': 0.3010299956639812,\n",
       " 'from': 0.3010299956639812,\n",
       " 'fourth': 0.3010299956639812}"
      ]
     },
     "execution_count": 21,
     "metadata": {},
     "output_type": "execute_result"
    }
   ],
   "source": [
    "idfs"
   ]
  },
  {
   "cell_type": "code",
   "execution_count": 22,
   "id": "b81f65f7",
   "metadata": {},
   "outputs": [
    {
     "name": "stdout",
     "output_type": "stream",
     "text": [
      "    Jupiter        is    Planet    planet   largest       Sun      Mars  \\\n",
      "0  0.060206  0.060206  0.060206  0.000000  0.060206  0.000000  0.000000   \n",
      "1  0.000000  0.037629  0.000000  0.037629  0.000000  0.037629  0.037629   \n",
      "\n",
      "        the      from    fourth  \n",
      "0  0.060206  0.000000  0.000000  \n",
      "1  0.075257  0.037629  0.037629  \n"
     ]
    }
   ],
   "source": [
    "def computeTFIDF(tfBow, idfs):\n",
    "    tfidf = {}\n",
    "    for word, val in tfBow.items():\n",
    "        tfidf[word] = val*idfs[word]\n",
    "    return(tfidf)\n",
    "#running our two sentences through the IDF:\n",
    "idfFirst = computeTFIDF(tfFirst, idfs)\n",
    "idfSecond = computeTFIDF(tfSecond, idfs)\n",
    "#putting it in a dataframe\n",
    "idf= pd.DataFrame([idfFirst, idfSecond])\n",
    "print(idf)"
   ]
  }
 ],
 "metadata": {
  "kernelspec": {
   "display_name": "Python 3 (ipykernel)",
   "language": "python",
   "name": "python3"
  },
  "language_info": {
   "codemirror_mode": {
    "name": "ipython",
    "version": 3
   },
   "file_extension": ".py",
   "mimetype": "text/x-python",
   "name": "python",
   "nbconvert_exporter": "python",
   "pygments_lexer": "ipython3",
   "version": "3.9.7"
  }
 },
 "nbformat": 4,
 "nbformat_minor": 5
}
